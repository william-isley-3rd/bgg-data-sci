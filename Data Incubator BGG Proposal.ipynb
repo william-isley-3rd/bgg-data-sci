{
 "cells": [
  {
   "cell_type": "markdown",
   "metadata": {},
   "source": [
    "# Table of Contents:\n",
    "1. [Importing Data and Function Definiton](#data)\n",
    "2. [Board Game Mechanics and Category Analysis](#bgmech_and_cat_analysis)\n",
    "3. [Are Games Better with Miniatures?](#minis)"
   ]
  },
  {
   "cell_type": "markdown",
   "metadata": {},
   "source": [
    "## Importing Data and Function Defintion <a name=\"data\"></a>\n",
    "\n",
    "We are going to start with Part 2 of my proposal. We can use the data from BoardGameGeek.com (BGG) to identify mechanics and categories of board games that are most likely to have a higher than average rating. "
   ]
  },
  {
   "cell_type": "code",
   "execution_count": 1,
   "metadata": {},
   "outputs": [
    {
     "name": "stdout",
     "output_type": "stream",
     "text": [
      "Index(['bgg_url', 'game_id', 'names', 'min_players', 'max_players', 'avg_time',\n",
      "       'min_time', 'max_time', 'year', 'avg_rating', 'geek_rating',\n",
      "       'num_votes', 'image_url', 'age', 'mechanic', 'owned', 'category',\n",
      "       'designer', 'weight'],\n",
      "      dtype='object')\n"
     ]
    }
   ],
   "source": [
    "# Going to input the data here \n",
    "import numpy as np\n",
    "import pandas as pd\n",
    "import matplotlib.pyplot as plt\n",
    "import math\n",
    "from scipy.stats import ks_2samp\n",
    "\n",
    "bgg_data_04_2017 = pd.read_csv('board-game-data/bgg_db_2017_04.csv', header=0, encoding='latin1', index_col=0)\n",
    "bgg_data_01_2018 = pd.read_csv('board-game-data/bgg_db_2018_01.csv', header=0, encoding='latin1', index_col=0)\n",
    "bgg_data_04_2018 = pd.read_csv('board-game-data/bgg_db_2018_04.csv', header=0, encoding='latin1')\n",
    "print(bgg_data_04_2017.columns)"
   ]
  },
  {
   "cell_type": "markdown",
   "metadata": {},
   "source": [
    "Now, we are interested in determining whether there are particular categories or game mechanics that will be particularly popular, and should be targeted by our indie game developers. We are going to define a function to extract the categories for board games.  "
   ]
  },
  {
   "cell_type": "code",
   "execution_count": null,
   "metadata": {
    "collapsed": true
   },
   "outputs": [],
   "source": [
    "# Define a function for extrating categorical data\n",
    "def get_categorical_data(series):\n",
    "    # Function for extracting set of categorical data labels\n",
    "    category_names = series.apply(lambda s: s.split(','))\n",
    "    category_names = category_names.tolist()\n",
    "    all_the_categories = []\n",
    "    for game in category_names:\n",
    "        for item in game:\n",
    "            all_the_categories.append(item.replace('\\n', ' ').replace('/', '-').strip())\n",
    "    return set(all_the_categories)"
   ]
  },
  {
   "cell_type": "markdown",
   "metadata": {},
   "source": [
    "Let's get some data for the most popular mechanics!"
   ]
  },
  {
   "cell_type": "code",
   "execution_count": null,
   "metadata": {
    "collapsed": true
   },
   "outputs": [],
   "source": [
    "mechanics_set = get_categorical_data(bgg_data_04_2017['mechanic'])\n",
    "bgg_mechanics_data = bgg_data_04_2017.loc[:, ['names', 'year', 'mechanic', 'geek_rating', 'avg_rating']]\n",
    "for game in bgg_mechanics_data.index.tolist():\n",
    "    game_mechs = bgg_mechanics_data.loc[game, 'mechanic'].split(',')\n",
    "    game_mechs = [s.replace('\\n', ' ').replace('/', '-').strip() for s in game_mechs]\n",
    "    for mech in game_mechs:\n",
    "        bgg_mechanics_data.loc[game, mech] = bgg_mechanics_data.loc[game, 'avg_rating']"
   ]
  },
  {
   "cell_type": "markdown",
   "metadata": {},
   "source": [
    "Let's look at the most popular Categories (these include themes, and general types) of games!"
   ]
  },
  {
   "cell_type": "code",
   "execution_count": null,
   "metadata": {
    "collapsed": true
   },
   "outputs": [],
   "source": [
    "category_set = get_categorical_data(bgg_data_04_2017['category'])\n",
    "bgg_cat_data = bgg_data_04_2017.loc[:, ['names', 'year', 'owned', 'category','geek_rating', 'avg_rating']]\n",
    "for game in bgg_cat_data.index.tolist():\n",
    "    game_cats = bgg_cat_data.loc[game, 'category'].split(',')\n",
    "    game_cats = [s.replace('\\n', ' ').replace('/', '-').strip() for s in game_cats]\n",
    "    for cat in game_cats:\n",
    "        bgg_cat_data.loc[game, cat] = bgg_cat_data.loc[game, 'avg_rating']\n",
    "miniatures_comp = bgg_cat_data.loc[:, ['names', 'year', 'owned', 'category', 'geek_rating', 'avg_rating', 'Miniatures']]\n",
    "for game in miniatures_comp.index.tolist():\n",
    "    if math.isnan(miniatures_comp.loc[game, 'Miniatures']):\n",
    "        miniatures_comp.loc[game, 'No Miniatures'] = miniatures_comp.loc[game, 'avg_rating']"
   ]
  },
  {
   "cell_type": "markdown",
   "metadata": {},
   "source": [
    "## Board Game Mechanics and Category Analysis <a name=\"bgmech_and_cat_analysis\"></a>\n",
    "\n",
    "Now we are going to plot the user ratings for the most popular (by number of voters) mechanics and categories of board games. "
   ]
  },
  {
   "cell_type": "code",
   "execution_count": null,
   "metadata": {},
   "outputs": [],
   "source": [
    "bgg_top_mechanics_data = bgg_mechanics_data[bgg_mechanics_data.columns[bgg_mechanics_data.count()>200]]\n",
    "\n",
    "top_mechanics = bgg_top_mechanics_data.columns.values.tolist()[4:]\n",
    "bgg_top_cat_data = bgg_cat_data[bgg_cat_data.columns[bgg_cat_data.count()>200]]\n",
    "top_cat = bgg_top_cat_data.columns.values.tolist()[5:]\n",
    "\n",
    "fig1, axes1 = plt.subplots(figsize=(22, 20), nrows=2)\n",
    "boxprops = dict(linestyle='-', linewidth=4, color='k')\n",
    "medianprops = dict(linestyle='-', linewidth=4, color='k')\n",
    "bgg_top_mechanics_data.boxplot(top_mechanics, ax=axes1[0], boxprops=boxprops, medianprops=medianprops,\n",
    "                               grid=False, showmeans=True)\n",
    "axes1[0].set_xticklabels(top_mechanics, rotation=40, ha='right')\n",
    "axes1[0].set_title('Mechanics for Games > 200 ratings')\n",
    "bgg_top_cat_data.boxplot(top_cat, ax=axes1[1], boxprops=boxprops, medianprops=medianprops,\n",
    "                         grid=False, showmeans=True)\n",
    "axes1[1].set_xticklabels(top_cat, rotation=40, ha='right')\n",
    "axes1[1].set_title('Categories for Games > 200 ratings')\n",
    "for item in ([axes1[0].title, axes1[0].xaxis.label, axes1[0].yaxis.label,\n",
    "              axes1[1].title, axes1[1].xaxis.label, axes1[1].yaxis.label] +\n",
    "              axes1[0].get_xticklabels() + axes1[0].get_yticklabels() +\n",
    "              axes1[1].get_xticklabels() + axes1[1].get_yticklabels()):\n",
    "    item.set_fontsize(20)\n",
    "plt.tight_layout()\n",
    "plt.show()"
   ]
  },
  {
   "cell_type": "markdown",
   "metadata": {},
   "source": [
    "It appears that the type of mechanics in the game did not seem to have a significant impact on the average user rating!\n",
    "\n",
    "However, the categories the game falls under does have a significant impact!  You can clearly see that the average game with miniatures is rated higher than most other categories. \n",
    "\n",
    "Also of interest is the slight boost in ratings for wargames, and games themed around World War II.  Interestingly humor games have a much lower average rating. Wargaming has often been considered to be a distinct hobby from more main stream tabletop games, as players that enjoy wargames are a distinct subset of the larger board game community. \n",
    "\n",
    "## Are Games Better with Miniatures? <a name=\"minis\"></a>\n",
    "\n",
    "Let's look and see how games with and without miniatures are rated."
   ]
  },
  {
   "cell_type": "code",
   "execution_count": null,
   "metadata": {},
   "outputs": [],
   "source": [
    "fig2, ax2 = plt.subplots()\n",
    "mini_heights, mini_bins = np.histogram(miniatures_comp['Miniatures'].dropna(axis=0), bins=50)\n",
    "nomini_heights, nomini_bins = np.histogram(miniatures_comp['No Miniatures'].dropna(axis=0), bins=mini_bins)\n",
    "mini_heights = mini_heights / miniatures_comp['Miniatures'].count()\n",
    "nomini_heights = nomini_heights / miniatures_comp['No Miniatures'].count()\n",
    "width = (mini_bins[1] - mini_bins[0])/3\n",
    "ax2.bar(mini_bins[:-1], mini_heights, width=width, facecolor='cornflowerblue', label='Minis')\n",
    "ax2.bar(nomini_bins[:-1]+width, nomini_heights, width=width, facecolor='seagreen', label='No Minis')\n",
    "ax2.set_xlabel('Average Rating')\n",
    "ax2.set_ylabel('Rating Denisty')\n",
    "ax2.legend(loc='upper right')\n",
    "plt.show()\n",
    "\n",
    "# do Kolmogorov - Smirnov analysis of null hypothesis\n",
    "\n",
    "print(ks_2samp(miniatures_comp['Miniatures'].dropna(axis=0),\n",
    "               miniatures_comp['No Miniatures'].dropna(axis=0)))"
   ]
  },
  {
   "cell_type": "markdown",
   "metadata": {},
   "source": [
    "Using the Kolmogorov-Smirov test, it looks like we cannot reject the null hypothesis. The distributions appear to be statistically different! An extremely small p-value of 9.7e-21%, a KS D statistic of 0.29 shows the max distance between the CDFS for the two distributions is 0.29 (in the average rating). Coupled with the extremely low p value, this result suggests that games with Miniatures are statistically rated higher!     "
   ]
  },
  {
   "cell_type": "markdown",
   "metadata": {},
   "source": []
  }
 ],
 "metadata": {
  "kernelspec": {
   "display_name": "Python 3",
   "language": "python",
   "name": "python3"
  },
  "language_info": {
   "codemirror_mode": {
    "name": "ipython",
    "version": 3
   },
   "file_extension": ".py",
   "mimetype": "text/x-python",
   "name": "python",
   "nbconvert_exporter": "python",
   "pygments_lexer": "ipython3",
   "version": "3.6.1"
  }
 },
 "nbformat": 4,
 "nbformat_minor": 2
}
